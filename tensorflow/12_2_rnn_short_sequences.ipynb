{
 "cells": [
  {
   "cell_type": "code",
   "execution_count": 1,
   "metadata": {},
   "outputs": [
    {
     "name": "stdout",
     "output_type": "stream",
     "text": [
      "idx2char ['t', 'i', 'f', 'w', 'a', 'n', ' ', 'y', 'u', 'o']\n",
      "char2idx {'t': 0, 'i': 1, 'f': 2, 'w': 3, 'a': 4, 'n': 5, ' ': 6, 'y': 7, 'u': 8, 'o': 9}\n"
     ]
    }
   ],
   "source": [
    "import tensorflow as tf\n",
    "import numpy as np\n",
    "tf.set_random_seed(777)  # reproducibility\n",
    "\n",
    "sample = \" if you want you\"\n",
    "idx2char = list(set(sample))  # index -> char\n",
    "char2idx = {c: i for i, c in enumerate(idx2char)}  # char -> idex\n",
    "print(\"idx2char\", idx2char)\n",
    "print(\"char2idx\", char2idx)"
   ]
  },
  {
   "cell_type": "code",
   "execution_count": 2,
   "metadata": {},
   "outputs": [],
   "source": [
    "# hyper parameters\n",
    "dic_size = len(char2idx)     # RNN input size (one hot size)\n",
    "hidden_size = len(char2idx)  # RNN output size\n",
    "num_classes = len(char2idx)  # final output size (RNN or softmax, etc.)\n",
    "batch_size = 1               # one sample data, one batch\n",
    "sequence_length = len(sample) - 1  # number of lstm rollings (unit #)\n",
    "learning_rate = 0.1\n",
    "\n",
    "sample_idx = [char2idx[c] for c in sample]  # char to index\n",
    "x_data = [sample_idx[:-1]]   # X data sample (0 ~ n-1) hello: hell\n",
    "y_data = [sample_idx[1:]]    # Y label sample (1 ~ n) hello: ello\n",
    "\n",
    "X = tf.placeholder(tf.int32, [None, sequence_length])  # X data\n",
    "Y = tf.placeholder(tf.int32, [None, sequence_length])  # Y label"
   ]
  },
  {
   "cell_type": "code",
   "execution_count": 3,
   "metadata": {},
   "outputs": [
    {
     "name": "stdout",
     "output_type": "stream",
     "text": [
      "WARNING:tensorflow:\n",
      "The TensorFlow contrib module will not be included in TensorFlow 2.0.\n",
      "For more information, please see:\n",
      "  * https://github.com/tensorflow/community/blob/master/rfcs/20180907-contrib-sunset.md\n",
      "  * https://github.com/tensorflow/addons\n",
      "  * https://github.com/tensorflow/io (for I/O related ops)\n",
      "If you depend on functionality not listed there, please file an issue.\n",
      "\n",
      "WARNING:tensorflow:From <ipython-input-3-538297a2f32f>:4: BasicLSTMCell.__init__ (from tensorflow.python.ops.rnn_cell_impl) is deprecated and will be removed in a future version.\n",
      "Instructions for updating:\n",
      "This class is equivalent as tf.keras.layers.LSTMCell, and will be replaced by that in Tensorflow 2.0.\n",
      "WARNING:tensorflow:From <ipython-input-3-538297a2f32f>:6: dynamic_rnn (from tensorflow.python.ops.rnn) is deprecated and will be removed in a future version.\n",
      "Instructions for updating:\n",
      "Please use `keras.layers.RNN(cell)`, which is equivalent to this API\n",
      "WARNING:tensorflow:From /usr/local/lib/python3.7/site-packages/tensorflow/python/ops/init_ops.py:1251: calling VarianceScaling.__init__ (from tensorflow.python.ops.init_ops) with dtype is deprecated and will be removed in a future version.\n",
      "Instructions for updating:\n",
      "Call initializer instance with the dtype argument instead of passing it to the constructor\n",
      "WARNING:tensorflow:From /usr/local/lib/python3.7/site-packages/tensorflow/python/ops/rnn_cell_impl.py:738: calling Zeros.__init__ (from tensorflow.python.ops.init_ops) with dtype is deprecated and will be removed in a future version.\n",
      "Instructions for updating:\n",
      "Call initializer instance with the dtype argument instead of passing it to the constructor\n",
      "WARNING:tensorflow:Entity <bound method BasicLSTMCell.call of <tensorflow.python.ops.rnn_cell_impl.BasicLSTMCell object at 0x10a305710>> could not be transformed and will be executed as-is. Please report this to the AutgoGraph team. When filing the bug, set the verbosity to 10 (on Linux, `export AUTOGRAPH_VERBOSITY=10`) and attach the full output. Cause: converting <bound method BasicLSTMCell.call of <tensorflow.python.ops.rnn_cell_impl.BasicLSTMCell object at 0x10a305710>>: AssertionError: Bad argument number for Name: 3, expecting 4\n",
      "WARNING: Entity <bound method BasicLSTMCell.call of <tensorflow.python.ops.rnn_cell_impl.BasicLSTMCell object at 0x10a305710>> could not be transformed and will be executed as-is. Please report this to the AutgoGraph team. When filing the bug, set the verbosity to 10 (on Linux, `export AUTOGRAPH_VERBOSITY=10`) and attach the full output. Cause: converting <bound method BasicLSTMCell.call of <tensorflow.python.ops.rnn_cell_impl.BasicLSTMCell object at 0x10a305710>>: AssertionError: Bad argument number for Name: 3, expecting 4\n"
     ]
    }
   ],
   "source": [
    "# num_classes: 몇 개의 one_hot으로 만들어줄 것인지\n",
    "# 유일한(unique) 문자 집합인 idx2char 사이즈와 동일\n",
    "x_one_hot = tf.one_hot(X, num_classes)  # one hot: 1 -> 0 1 0 0 0 0 0 0 0 0\n",
    "\n",
    "cell = tf.contrib.rnn.BasicLSTMCell(num_units=hidden_size, state_is_tuple=True)\n",
    "initial_state = cell.zero_state(batch_size, tf.float32)\n",
    "outputs, _states = tf.nn.dynamic_rnn(cell, x_one_hot, initial_state=initial_state, dtype=tf.float32)"
   ]
  },
  {
   "cell_type": "code",
   "execution_count": 4,
   "metadata": {},
   "outputs": [
    {
     "name": "stdout",
     "output_type": "stream",
     "text": [
      "WARNING:tensorflow:Entity <bound method Dense.call of <tensorflow.python.layers.core.Dense object at 0x13aa1d890>> could not be transformed and will be executed as-is. Please report this to the AutgoGraph team. When filing the bug, set the verbosity to 10 (on Linux, `export AUTOGRAPH_VERBOSITY=10`) and attach the full output. Cause: converting <bound method Dense.call of <tensorflow.python.layers.core.Dense object at 0x13aa1d890>>: AssertionError: Bad argument number for Name: 3, expecting 4\n",
      "WARNING: Entity <bound method Dense.call of <tensorflow.python.layers.core.Dense object at 0x13aa1d890>> could not be transformed and will be executed as-is. Please report this to the AutgoGraph team. When filing the bug, set the verbosity to 10 (on Linux, `export AUTOGRAPH_VERBOSITY=10`) and attach the full output. Cause: converting <bound method Dense.call of <tensorflow.python.layers.core.Dense object at 0x13aa1d890>>: AssertionError: Bad argument number for Name: 3, expecting 4\n"
     ]
    }
   ],
   "source": [
    "# FC layer\n",
    "X_for_fc = tf.reshape(outputs, [-1, hidden_size])\n",
    "outputs = tf.contrib.layers.fully_connected(X_for_fc, num_classes, activation_fn=None)\n",
    "\n",
    "# reshape out for sequence_loss\n",
    "outputs = tf.reshape(outputs, [batch_size, sequence_length, num_classes])"
   ]
  },
  {
   "cell_type": "code",
   "execution_count": 5,
   "metadata": {},
   "outputs": [],
   "source": [
    "weights = tf.ones([batch_size, sequence_length])\n",
    "sequence_loss = tf.contrib.seq2seq.sequence_loss(logits=outputs, targets=Y, weights=weights)\n",
    "loss = tf.reduce_mean(sequence_loss)\n",
    "train = tf.train.AdamOptimizer(learning_rate=learning_rate).minimize(loss)"
   ]
  },
  {
   "cell_type": "code",
   "execution_count": 6,
   "metadata": {},
   "outputs": [],
   "source": [
    "prediction = tf.argmax(outputs, axis=2)"
   ]
  },
  {
   "cell_type": "code",
   "execution_count": 7,
   "metadata": {},
   "outputs": [
    {
     "name": "stdout",
     "output_type": "stream",
     "text": [
      "0 loss: 2.2986755 Prediction: o    u  u     u\n",
      "1 loss: 2.142747 Prediction: o   ou uuuuuuou\n",
      "2 loss: 1.9777694 Prediction: o   ouuuuuuuuou\n",
      "3 loss: 1.7914783 Prediction: y   ou uu   you\n",
      "4 loss: 1.5178113 Prediction: yf you  a t you\n",
      "5 loss: 1.2456594 Prediction: yf you aant you\n",
      "6 loss: 0.9785164 Prediction: yf you  ant you\n",
      "7 loss: 0.731504 Prediction: yf you want you\n",
      "8 loss: 0.53080505 Prediction: yf you want you\n",
      "9 loss: 0.37683412 Prediction: if you want you\n",
      "10 loss: 0.25416905 Prediction: if you want you\n",
      "11 loss: 0.16722944 Prediction: if you want you\n",
      "12 loss: 0.111258306 Prediction: if you want you\n",
      "13 loss: 0.07425931 Prediction: if you want you\n",
      "14 loss: 0.049364645 Prediction: if you want you\n",
      "15 loss: 0.033410687 Prediction: if you want you\n",
      "16 loss: 0.023288494 Prediction: if you want you\n",
      "17 loss: 0.016653432 Prediction: if you want you\n",
      "18 loss: 0.012179709 Prediction: if you want you\n",
      "19 loss: 0.009172107 Prediction: if you want you\n",
      "20 loss: 0.007192319 Prediction: if you want you\n",
      "21 loss: 0.005861913 Prediction: if you want you\n",
      "22 loss: 0.004840645 Prediction: if you want you\n",
      "23 loss: 0.0039623496 Prediction: if you want you\n",
      "24 loss: 0.0032266944 Prediction: if you want you\n",
      "25 loss: 0.002650601 Prediction: if you want you\n",
      "26 loss: 0.0022155787 Prediction: if you want you\n",
      "27 loss: 0.0018881522 Prediction: if you want you\n",
      "28 loss: 0.0016379228 Prediction: if you want you\n",
      "29 loss: 0.0014424678 Prediction: if you want you\n",
      "30 loss: 0.0012861727 Prediction: if you want you\n",
      "31 loss: 0.0011582819 Prediction: if you want you\n",
      "32 loss: 0.0010514049 Prediction: if you want you\n",
      "33 loss: 0.0009604351 Prediction: if you want you\n",
      "34 loss: 0.00088191975 Prediction: if you want you\n",
      "35 loss: 0.0008134662 Prediction: if you want you\n",
      "36 loss: 0.0007532674 Prediction: if you want you\n",
      "37 loss: 0.0007001665 Prediction: if you want you\n",
      "38 loss: 0.0006531965 Prediction: if you want you\n",
      "39 loss: 0.00061167584 Prediction: if you want you\n",
      "40 loss: 0.0005749308 Prediction: if you want you\n",
      "41 loss: 0.0005424542 Prediction: if you want you\n",
      "42 loss: 0.00051372265 Prediction: if you want you\n",
      "43 loss: 0.0004882923 Prediction: if you want you\n",
      "44 loss: 0.00046576658 Prediction: if you want you\n",
      "45 loss: 0.0004458205 Prediction: if you want you\n",
      "46 loss: 0.00042811283 Prediction: if you want you\n",
      "47 loss: 0.00041228652 Prediction: if you want you\n",
      "48 loss: 0.00039815114 Prediction: if you want you\n",
      "49 loss: 0.00038548454 Prediction: if you want you\n"
     ]
    }
   ],
   "source": [
    "with tf.Session() as sess:\n",
    "    sess.run(tf.global_variables_initializer())\n",
    "    for i in range(50):\n",
    "        l, _ = sess.run([loss, train], feed_dict={X: x_data, Y: y_data})\n",
    "        result = sess.run(prediction, feed_dict={X: x_data})\n",
    "\n",
    "        # print char using dic\n",
    "        result_str = [idx2char[c] for c in np.squeeze(result)]\n",
    "        print(i, \"loss:\", l, \"Prediction:\", ''.join(result_str))"
   ]
  }
 ],
 "metadata": {
  "kernelspec": {
   "display_name": ".venv",
   "language": "python",
   "name": ".venv"
  },
  "language_info": {
   "codemirror_mode": {
    "name": "ipython",
    "version": 3
   },
   "file_extension": ".py",
   "mimetype": "text/x-python",
   "name": "python",
   "nbconvert_exporter": "python",
   "pygments_lexer": "ipython3",
   "version": "3.7.4"
  }
 },
 "nbformat": 4,
 "nbformat_minor": 2
}
