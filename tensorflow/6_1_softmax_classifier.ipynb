{
 "cells": [
  {
   "cell_type": "markdown",
   "metadata": {},
   "source": [
    "### Scores => Probabilities\n",
    "\n",
    "`hypothesis = tf.nn.softmax(tf.matmul(X, W) + b)`\n",
    "\n",
    "어떤 Label에 해당하는지 확률(Probabilities)로 나타나게 됨.\n",
    "\n",
    "### cost function: cross entropy\n",
    "\n",
    "`cost = tf.reduce_mean(-tf.reduce_sum(Y * tf.log(hypothesis), axis=1))`\n",
    "\n",
    "### Test & One-hot encoding\n",
    "\n",
    "`hypothesis = tf.nn.softmax(tf.matmul(X, W) + b)`"
   ]
  },
  {
   "cell_type": "code",
   "execution_count": 9,
   "metadata": {},
   "outputs": [
    {
     "name": "stdout",
     "output_type": "stream",
     "text": [
      "0 18.406042\n",
      "400 0.43663403\n",
      "800 0.2853667\n",
      "1200 0.21394038\n",
      "1600 0.17951033\n",
      "2000 0.15438387\n",
      "================================\n",
      "[[3.1273873e-03 9.9686474e-01 7.8466992e-06]] [1]\n",
      "================================\n",
      "[[0.8940115  0.09865826 0.00733032]] [0]\n",
      "================================\n",
      "[[1.1744099e-08 3.2090070e-04 9.9967909e-01]] [2]\n",
      "================================\n",
      "[[3.1273975e-03 9.9686474e-01 7.8467137e-06]\n",
      " [8.9401150e-01 9.8658204e-02 7.3303264e-03]\n",
      " [1.1744099e-08 3.2090070e-04 9.9967909e-01]] [1 0 2]\n"
     ]
    }
   ],
   "source": [
    "import tensorflow as tf\n",
    "tf.set_random_seed(777)  # for reproducibility\n",
    "\n",
    "x_data = [[1, 2, 1, 1],\n",
    "          [2, 1, 3, 2],\n",
    "          [3, 1, 3, 4],\n",
    "          [4, 1, 5, 5],\n",
    "          [1, 7, 5, 5],\n",
    "          [1, 2, 5, 6],\n",
    "          [1, 6, 6, 6],\n",
    "          [1, 7, 7, 7]]\n",
    "y_data = [[0, 0, 1], # 2\n",
    "          [0, 0, 1], # 2\n",
    "          [0, 0, 1], # 2\n",
    "          [0, 1, 0], # 1\n",
    "          [0, 1, 0], # 1\n",
    "          [0, 1, 0], # 1\n",
    "          [1, 0, 0], # 0\n",
    "          [1, 0, 0]] # 0\n",
    "\n",
    "X = tf.placeholder(\"float\", [None, 4])\n",
    "Y = tf.placeholder(\"float\", [None, 3])\n",
    "nb_classes = 3\n",
    "\n",
    "W = tf.Variable(tf.random_normal([4, nb_classes]), name='weight')\n",
    "b = tf.Variable(tf.random_normal([nb_classes]), name='bias')\n",
    "\n",
    "# tf.nn.softmax computes softmax activations\n",
    "# softmax = exp(logits) / reduce_sum(exp(logits), dim)\n",
    "hypothesis = tf.nn.softmax(tf.matmul(X, W) + b)\n",
    "\n",
    "# Cross entropy cost/loss\n",
    "cost = tf.reduce_mean(-tf.reduce_sum(Y * tf.log(hypothesis), axis=1))\n",
    "\n",
    "optimizer = tf.train.GradientDescentOptimizer(learning_rate=0.1).minimize(cost)\n",
    "\n",
    "with tf.Session() as sess:\n",
    "    sess.run(tf.global_variables_initializer())\n",
    "    \n",
    "    for step in range(2001):\n",
    "        _, cost_val = sess.run([optimizer, cost], feed_dict={X: x_data, Y: y_data})\n",
    "        \n",
    "        if step % 400 == 0:\n",
    "            print(step, cost_val)\n",
    "    \n",
    "    print('================================')\n",
    "    # Testing & One-hot encoding\n",
    "    a = sess.run(hypothesis, feed_dict={X: [[1, 11, 7, 9]]})\n",
    "    print(a, sess.run(tf.argmax(a, 1)))\n",
    "    \n",
    "    print('================================')\n",
    "    b = sess.run(hypothesis, feed_dict={X: [[1, 3, 4, 3]]})\n",
    "    print(b, sess.run(tf.argmax(b, 1)))\n",
    "    \n",
    "    print('================================')\n",
    "    c = sess.run(hypothesis, feed_dict={X: [[1, 1, 0, 1]]})\n",
    "    print(c, sess.run(tf.argmax(c, 1)))\n",
    "    \n",
    "    print('================================')\n",
    "    all = sess.run(hypothesis, feed_dict={X: [[1, 11, 7, 9], [1, 3, 4, 3], [1, 1, 0, 1]]})\n",
    "    print(all, sess.run(tf.argmax(all, 1)))"
   ]
  }
 ],
 "metadata": {
  "kernelspec": {
   "display_name": "Python 3",
   "language": "python",
   "name": "python3"
  },
  "language_info": {
   "codemirror_mode": {
    "name": "ipython",
    "version": 3
   },
   "file_extension": ".py",
   "mimetype": "text/x-python",
   "name": "python",
   "nbconvert_exporter": "python",
   "pygments_lexer": "ipython3",
   "version": "3.7.4"
  }
 },
 "nbformat": 4,
 "nbformat_minor": 2
}
