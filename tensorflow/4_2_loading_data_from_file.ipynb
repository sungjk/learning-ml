{
 "cells": [
  {
   "cell_type": "code",
   "execution_count": 4,
   "metadata": {},
   "outputs": [
    {
     "name": "stdout",
     "output_type": "stream",
     "text": [
      "range(0, 5)\n"
     ]
    }
   ],
   "source": [
    "nums = range(5)\n",
    "print(nums)"
   ]
  },
  {
   "cell_type": "code",
   "execution_count": 5,
   "metadata": {},
   "outputs": [
    {
     "name": "stdout",
     "output_type": "stream",
     "text": [
      "range(2, 4)\n"
     ]
    }
   ],
   "source": [
    "print(nums[2:4])"
   ]
  },
  {
   "cell_type": "code",
   "execution_count": 6,
   "metadata": {},
   "outputs": [
    {
     "name": "stdout",
     "output_type": "stream",
     "text": [
      "range(2, 5)\n"
     ]
    }
   ],
   "source": [
    "print(nums[2:])"
   ]
  },
  {
   "cell_type": "code",
   "execution_count": 7,
   "metadata": {},
   "outputs": [
    {
     "name": "stdout",
     "output_type": "stream",
     "text": [
      "range(0, 2)\n"
     ]
    }
   ],
   "source": [
    "print(nums[:2])"
   ]
  },
  {
   "cell_type": "code",
   "execution_count": 8,
   "metadata": {},
   "outputs": [
    {
     "name": "stdout",
     "output_type": "stream",
     "text": [
      "range(0, 5)\n"
     ]
    }
   ],
   "source": [
    "print(nums[:])"
   ]
  },
  {
   "cell_type": "code",
   "execution_count": 9,
   "metadata": {},
   "outputs": [
    {
     "name": "stdout",
     "output_type": "stream",
     "text": [
      "range(0, 4)\n"
     ]
    }
   ],
   "source": [
    "print(nums[:-1])"
   ]
  },
  {
   "cell_type": "code",
   "execution_count": 12,
   "metadata": {},
   "outputs": [
    {
     "name": "stdout",
     "output_type": "stream",
     "text": [
      "[[ 1  2  3  4]\n",
      " [ 5  6  7  8]\n",
      " [ 9 10 11 12]]\n"
     ]
    }
   ],
   "source": [
    "import numpy as np\n",
    "b = np.array([\n",
    "    [1, 2, 3, 4],  # 1 row\n",
    "    [5, 6, 7, 8],  # 2 row\n",
    "    [9, 10, 11, 12]# 3 row\n",
    "])\n",
    "print(b)"
   ]
  },
  {
   "cell_type": "code",
   "execution_count": 13,
   "metadata": {},
   "outputs": [
    {
     "name": "stdout",
     "output_type": "stream",
     "text": [
      "[ 2  6 10]\n"
     ]
    }
   ],
   "source": [
    "print(b[:, 1])"
   ]
  },
  {
   "cell_type": "code",
   "execution_count": 14,
   "metadata": {},
   "outputs": [
    {
     "name": "stdout",
     "output_type": "stream",
     "text": [
      "[ 9 10 11 12]\n"
     ]
    }
   ],
   "source": [
    "print(b[-1])"
   ]
  },
  {
   "cell_type": "code",
   "execution_count": 15,
   "metadata": {},
   "outputs": [
    {
     "name": "stdout",
     "output_type": "stream",
     "text": [
      "[ 9 10 11 12]\n"
     ]
    }
   ],
   "source": [
    "print(b[-1, :])"
   ]
  },
  {
   "cell_type": "code",
   "execution_count": 16,
   "metadata": {},
   "outputs": [
    {
     "name": "stdout",
     "output_type": "stream",
     "text": [
      "[ 9 10 11 12]\n"
     ]
    }
   ],
   "source": [
    "print(b[-1, ...])"
   ]
  },
  {
   "cell_type": "code",
   "execution_count": 18,
   "metadata": {},
   "outputs": [
    {
     "name": "stdout",
     "output_type": "stream",
     "text": [
      "[[1 2 3 4]\n",
      " [5 6 7 8]]\n"
     ]
    }
   ],
   "source": [
    "print(b[0:2, :])"
   ]
  },
  {
   "cell_type": "code",
   "execution_count": 21,
   "metadata": {},
   "outputs": [
    {
     "name": "stdout",
     "output_type": "stream",
     "text": [
      "(25, 3) [[ 73.  80.  75.]\n",
      " [ 93.  88.  93.]\n",
      " [ 89.  91.  90.]\n",
      " [ 96.  98. 100.]\n",
      " [ 73.  66.  70.]\n",
      " [ 53.  46.  55.]\n",
      " [ 69.  74.  77.]\n",
      " [ 47.  56.  60.]\n",
      " [ 87.  79.  90.]\n",
      " [ 79.  70.  88.]\n",
      " [ 69.  70.  73.]\n",
      " [ 70.  65.  74.]\n",
      " [ 93.  95.  91.]\n",
      " [ 79.  80.  73.]\n",
      " [ 70.  73.  78.]\n",
      " [ 93.  89.  96.]\n",
      " [ 78.  75.  68.]\n",
      " [ 81.  90.  93.]\n",
      " [ 88.  92.  86.]\n",
      " [ 78.  83.  77.]\n",
      " [ 82.  86.  90.]\n",
      " [ 86.  82.  89.]\n",
      " [ 78.  83.  85.]\n",
      " [ 76.  83.  71.]\n",
      " [ 96.  93.  95.]] 25\n",
      "(25, 1) [[152.]\n",
      " [185.]\n",
      " [180.]\n",
      " [196.]\n",
      " [142.]\n",
      " [101.]\n",
      " [149.]\n",
      " [115.]\n",
      " [175.]\n",
      " [164.]\n",
      " [141.]\n",
      " [141.]\n",
      " [184.]\n",
      " [152.]\n",
      " [148.]\n",
      " [192.]\n",
      " [147.]\n",
      " [183.]\n",
      " [177.]\n",
      " [159.]\n",
      " [177.]\n",
      " [175.]\n",
      " [175.]\n",
      " [149.]\n",
      " [192.]]\n"
     ]
    }
   ],
   "source": [
    "import numpy as np\n",
    "\n",
    "xy = np.loadtxt('data-01-test-score.csv', delimiter=',', dtype=np.float32)\n",
    "\n",
    "# 전체 Row 중에서 마지막 Column을 제외한 전체\n",
    "x_data = xy[:, 0:-1]\n",
    "# 전체 Row 중에서 마지막 Column만\n",
    "y_data = xy[:, [-1]]\n",
    "\n",
    "print(x_data.shape, x_data, len(x_data))\n",
    "print(y_data.shape, y_data)"
   ]
  },
  {
   "cell_type": "code",
   "execution_count": 29,
   "metadata": {},
   "outputs": [
    {
     "name": "stdout",
     "output_type": "stream",
     "text": [
      "0 Cost: 9478.495 \n",
      "Prediction:\n",
      " [[62.825512]\n",
      " [73.05417 ]\n",
      " [73.14898 ]\n",
      " [81.46414 ]\n",
      " [53.510914]\n",
      " [41.72551 ]\n",
      " [64.17871 ]\n",
      " [52.174763]\n",
      " [69.79098 ]\n",
      " [68.255196]\n",
      " [59.248974]\n",
      " [57.957165]\n",
      " [73.74173 ]\n",
      " [58.525448]\n",
      " [64.28799 ]\n",
      " [76.05092 ]\n",
      " [52.785908]\n",
      " [78.82617 ]\n",
      " [70.39322 ]\n",
      " [63.52754 ]\n",
      " [74.35598 ]\n",
      " [70.38225 ]\n",
      " [70.58485 ]\n",
      " [59.079807]\n",
      " [75.30197 ]]\n",
      "200 Cost: 8.491321 \n",
      "Prediction:\n",
      " [[154.25058]\n",
      " [183.10686]\n",
      " [181.50061]\n",
      " [199.44806]\n",
      " [137.50162]\n",
      " [103.63819]\n",
      " [152.4178 ]\n",
      " [117.47869]\n",
      " [172.65845]\n",
      " [163.50784]\n",
      " [144.3327 ]\n",
      " [141.91829]\n",
      " [185.7069 ]\n",
      " [151.64035]\n",
      " [152.95566]\n",
      " [187.69455]\n",
      " [141.54129]\n",
      " [184.6706 ]\n",
      " [177.11316]\n",
      " [158.99469]\n",
      " [177.8614 ]\n",
      " [173.59674]\n",
      " [169.26036]\n",
      " [151.31003]\n",
      " [189.34169]]\n",
      "400 Cost: 8.255752 \n",
      "Prediction:\n",
      " [[154.18178 ]\n",
      " [183.18353 ]\n",
      " [181.49559 ]\n",
      " [199.42422 ]\n",
      " [137.61478 ]\n",
      " [103.711716]\n",
      " [152.32777 ]\n",
      " [117.30636 ]\n",
      " [172.74454 ]\n",
      " [163.56111 ]\n",
      " [144.31235 ]\n",
      " [141.96143 ]\n",
      " [185.72354 ]\n",
      " [151.69138 ]\n",
      " [152.88696 ]\n",
      " [187.74005 ]\n",
      " [141.66171 ]\n",
      " [184.51404 ]\n",
      " [177.10739 ]\n",
      " [158.9689  ]\n",
      " [177.78531 ]\n",
      " [173.64041 ]\n",
      " [169.17957 ]\n",
      " [151.29016 ]\n",
      " [189.40495 ]]\n",
      "600 Cost: 8.042687 \n",
      "Prediction:\n",
      " [[154.1166 ]\n",
      " [183.25635]\n",
      " [181.49092]\n",
      " [199.40158]\n",
      " [137.7223 ]\n",
      " [103.78133]\n",
      " [152.24207]\n",
      " [117.14227]\n",
      " [172.82605]\n",
      " [163.61111]\n",
      " [144.29292]\n",
      " [142.00217]\n",
      " [185.73964]\n",
      " [151.7403 ]\n",
      " [152.82147]\n",
      " [187.78313]\n",
      " [141.77666]\n",
      " [184.36504]\n",
      " [177.10228]\n",
      " [158.94472]\n",
      " [177.71284]\n",
      " [173.68173]\n",
      " [169.10269]\n",
      " [151.27184]\n",
      " [189.46513]]\n",
      "800 Cost: 7.8499384 \n",
      "Prediction:\n",
      " [[154.05484]\n",
      " [183.3255 ]\n",
      " [181.4866 ]\n",
      " [199.38002]\n",
      " [137.82451]\n",
      " [103.84724]\n",
      " [152.16046]\n",
      " [116.98606]\n",
      " [172.90326]\n",
      " [163.65805]\n",
      " [144.27435]\n",
      " [142.04062]\n",
      " [185.75517]\n",
      " [151.78717]\n",
      " [152.75903]\n",
      " [187.82393]\n",
      " [141.88634]\n",
      " [184.22327]\n",
      " [177.0977 ]\n",
      " [158.92198]\n",
      " [177.6438 ]\n",
      " [173.72086]\n",
      " [169.02954]\n",
      " [151.25491]\n",
      " [189.5224 ]]\n",
      "1000 Cost: 7.6755824 \n",
      "Prediction:\n",
      " [[153.99637 ]\n",
      " [183.39124 ]\n",
      " [181.48264 ]\n",
      " [199.35956 ]\n",
      " [137.92169 ]\n",
      " [103.909676]\n",
      " [152.08281 ]\n",
      " [116.83735 ]\n",
      " [172.97643 ]\n",
      " [163.70215 ]\n",
      " [144.2567  ]\n",
      " [142.07697 ]\n",
      " [185.77022 ]\n",
      " [151.83209 ]\n",
      " [152.69954 ]\n",
      " [187.86261 ]\n",
      " [141.99101 ]\n",
      " [184.08838 ]\n",
      " [177.09367 ]\n",
      " [158.90067 ]\n",
      " [177.5781  ]\n",
      " [173.75792 ]\n",
      " [168.95999 ]\n",
      " [151.23932 ]\n",
      " [189.57692 ]]\n",
      "1200 Cost: 7.5178747 \n",
      "Prediction:\n",
      " [[153.9409 ]\n",
      " [183.45366]\n",
      " [181.47893]\n",
      " [199.34007]\n",
      " [138.01402]\n",
      " [103.96882]\n",
      " [152.00887]\n",
      " [116.69577]\n",
      " [173.0457 ]\n",
      " [163.74358]\n",
      " [144.2398 ]\n",
      " [142.11127]\n",
      " [185.78468]\n",
      " [151.87508]\n",
      " [152.64279]\n",
      " [187.8992 ]\n",
      " [142.09085]\n",
      " [183.95998]\n",
      " [177.09006]\n",
      " [158.8806 ]\n",
      " [177.51549]\n",
      " [173.79298]\n",
      " [168.89377]\n",
      " [151.22491]\n",
      " [189.62875]]\n",
      "1400 Cost: 7.375199 \n",
      "Prediction:\n",
      " [[153.88838 ]\n",
      " [183.51297 ]\n",
      " [181.47554 ]\n",
      " [199.32158 ]\n",
      " [138.10182 ]\n",
      " [104.02484 ]\n",
      " [151.93849 ]\n",
      " [116.561005]\n",
      " [173.11137 ]\n",
      " [163.78252 ]\n",
      " [144.22372 ]\n",
      " [142.1437  ]\n",
      " [185.79866 ]\n",
      " [151.91626 ]\n",
      " [152.58875 ]\n",
      " [187.93391 ]\n",
      " [142.18611 ]\n",
      " [183.83784 ]\n",
      " [177.0869  ]\n",
      " [158.86177 ]\n",
      " [177.45589 ]\n",
      " [173.82625 ]\n",
      " [168.8308  ]\n",
      " [151.21162 ]\n",
      " [189.67812 ]]\n",
      "1600 Cost: 7.246138 \n",
      "Prediction:\n",
      " [[153.83858]\n",
      " [183.56929]\n",
      " [181.47234]\n",
      " [199.30397]\n",
      " [138.18527]\n",
      " [104.07793]\n",
      " [151.87149]\n",
      " [116.4327 ]\n",
      " [173.17357]\n",
      " [163.8191 ]\n",
      " [144.20836]\n",
      " [142.17436]\n",
      " [185.81212]\n",
      " [151.95564]\n",
      " [152.53722]\n",
      " [187.96678]\n",
      " [142.27695]\n",
      " [183.72157]\n",
      " [177.08406]\n",
      " [158.84406]\n",
      " [177.39911]\n",
      " [173.85773]\n",
      " [168.77086]\n",
      " [151.19936]\n",
      " [189.72505]]\n",
      "1800 Cost: 7.1293645 \n",
      "Prediction:\n",
      " [[153.79135]\n",
      " [183.62283]\n",
      " [181.4694 ]\n",
      " [199.28722]\n",
      " [138.2646 ]\n",
      " [104.12823]\n",
      " [151.80772]\n",
      " [116.31058]\n",
      " [173.23254]\n",
      " [163.85353]\n",
      " [144.19373]\n",
      " [142.20334]\n",
      " [185.82506]\n",
      " [151.99336]\n",
      " [152.48811]\n",
      " [187.99794]\n",
      " [142.36357]\n",
      " [183.61098]\n",
      " [177.0816 ]\n",
      " [158.8274 ]\n",
      " [177.34505]\n",
      " [173.88756]\n",
      " [168.71385]\n",
      " [151.188  ]\n",
      " [189.76973]]\n",
      "2000 Cost: 7.0237274 \n",
      "Prediction:\n",
      " [[153.74658]\n",
      " [183.67369]\n",
      " [181.46667]\n",
      " [199.2713 ]\n",
      " [138.34001]\n",
      " [104.1759 ]\n",
      " [151.74704]\n",
      " [116.19433]\n",
      " [173.28844]\n",
      " [163.88591]\n",
      " [144.17976]\n",
      " [142.23073]\n",
      " [185.83752]\n",
      " [152.02942]\n",
      " [152.44131]\n",
      " [188.02748]\n",
      " [142.4462 ]\n",
      " [183.50574]\n",
      " [177.07944]\n",
      " [158.81172]\n",
      " [177.29358]\n",
      " [173.9158 ]\n",
      " [168.6596 ]\n",
      " [151.17752]\n",
      " [189.81223]]\n"
     ]
    }
   ],
   "source": [
    "import tensorflow as tf\n",
    "import numpy as np\n",
    "\n",
    "tf.set_random_seed(777)\n",
    "\n",
    "xy = np.loadtxt('data-01-test-score.csv', delimiter=',', dtype=np.float32)\n",
    "x_data = xy[:, 0:-1]\n",
    "y_data = xy[:, [-1]]\n",
    "\n",
    "X = tf.placeholder(tf.float32, shape=[None, 3])\n",
    "Y = tf.placeholder(tf.float32, shape=[None, 1])\n",
    "\n",
    "W = tf.Variable(tf.random_normal([3, 1]), name='weight')\n",
    "b = tf.Variable(tf.random_normal([1]), name='bias')\n",
    "\n",
    "hypothesis = tf.matmul(X, W) + b\n",
    "\n",
    "cost = tf.reduce_mean(tf.square(hypothesis - Y))\n",
    "\n",
    "optimizer = tf.train.GradientDescentOptimizer(learning_rate=1e-5)\n",
    "train = optimizer.minimize(cost)\n",
    "\n",
    "sess = tf.Session()\n",
    "sess.run(tf.global_variables_initializer())\n",
    "\n",
    "for step in range(2001):\n",
    "    cost_val, hy_val, _ = sess.run(\n",
    "        [cost, hypothesis, train], \n",
    "        feed_dict={X: x_data, Y: y_data}\n",
    "    )\n",
    "    if step % 200 == 0:\n",
    "        print(step, \"Cost:\", cost_val, \"\\nPrediction:\\n\", hy_val)"
   ]
  },
  {
   "cell_type": "code",
   "execution_count": 32,
   "metadata": {},
   "outputs": [
    {
     "name": "stdout",
     "output_type": "stream",
     "text": [
      "Your score will be  [[193.5753]]\n"
     ]
    }
   ],
   "source": [
    "print(\"Your score will be \", sess.run(hypothesis, feed_dict={X: [[100, 70, 110]]}))"
   ]
  },
  {
   "cell_type": "code",
   "execution_count": 33,
   "metadata": {},
   "outputs": [
    {
     "name": "stdout",
     "output_type": "stream",
     "text": [
      "Your score will be  [[188.6076 ]\n",
      " [175.22841]]\n"
     ]
    }
   ],
   "source": [
    "print(\"Your score will be \", sess.run(hypothesis, feed_dict={X: [[60, 70, 110], [90, 100, 80]]}))"
   ]
  },
  {
   "cell_type": "code",
   "execution_count": 38,
   "metadata": {},
   "outputs": [
    {
     "name": "stdout",
     "output_type": "stream",
     "text": [
      "0 Cost:  98956.17 \n",
      "Prediction:\n",
      " [[-138.22705 ]\n",
      " [-181.8019  ]\n",
      " [-170.7611  ]\n",
      " [-189.89299 ]\n",
      " [-139.25996 ]\n",
      " [-110.44836 ]\n",
      " [-143.49687 ]\n",
      " [-107.835434]\n",
      " [-178.27782 ]\n",
      " [-175.12645 ]]\n",
      "200 Cost:  101.0052 \n",
      "Prediction:\n",
      " [[162.05356 ]\n",
      " [180.61195 ]\n",
      " [185.51836 ]\n",
      " [198.5808  ]\n",
      " [137.13527 ]\n",
      " [ 94.209755]\n",
      " [147.54903 ]\n",
      " [108.24688 ]\n",
      " [161.3328  ]\n",
      " [140.58345 ]]\n",
      "400 Cost:  84.09767 \n",
      "Prediction:\n",
      " [[161.29024]\n",
      " [181.01248]\n",
      " [185.20035]\n",
      " [198.64221]\n",
      " [137.4319 ]\n",
      " [ 95.21164]\n",
      " [147.83154]\n",
      " [108.74805]\n",
      " [162.51108]\n",
      " [142.69402]]\n",
      "600 Cost:  70.08826 \n",
      "Prediction:\n",
      " [[160.59421 ]\n",
      " [181.37726 ]\n",
      " [184.91013 ]\n",
      " [198.6985  ]\n",
      " [137.70146 ]\n",
      " [ 96.12529 ]\n",
      " [148.09032 ]\n",
      " [109.207214]\n",
      " [163.5856  ]\n",
      " [144.61975 ]]\n",
      "800 Cost:  58.485626 \n",
      "Prediction:\n",
      " [[159.95955]\n",
      " [181.7094 ]\n",
      " [184.64523]\n",
      " [198.75003]\n",
      " [137.94633]\n",
      " [ 96.95842]\n",
      " [148.32733]\n",
      " [109.62795]\n",
      " [164.56544]\n",
      " [146.37686]]\n",
      "1000 Cost:  48.88135 \n",
      "Prediction:\n",
      " [[159.38092 ]\n",
      " [182.0118  ]\n",
      " [184.40352 ]\n",
      " [198.79732 ]\n",
      " [138.16876 ]\n",
      " [ 97.718124]\n",
      " [148.54451 ]\n",
      " [110.01357 ]\n",
      " [165.45895 ]\n",
      " [147.98009 ]]\n",
      "1200 Cost:  40.93577 \n",
      "Prediction:\n",
      " [[158.8534  ]\n",
      " [182.28712 ]\n",
      " [184.18289 ]\n",
      " [198.84064 ]\n",
      " [138.37074 ]\n",
      " [ 98.41084 ]\n",
      " [148.74347 ]\n",
      " [110.367035]\n",
      " [166.27368 ]\n",
      " [149.4429  ]]\n",
      "1400 Cost:  34.366707 \n",
      "Prediction:\n",
      " [[158.37242]\n",
      " [182.53772]\n",
      " [183.98154]\n",
      " [198.88036]\n",
      " [138.55408]\n",
      " [ 99.04245]\n",
      " [148.92583]\n",
      " [110.69107]\n",
      " [167.01654]\n",
      " [150.77756]]\n",
      "1600 Cost:  28.939404 \n",
      "Prediction:\n",
      " [[157.93396]\n",
      " [182.76581]\n",
      " [183.79778]\n",
      " [198.91676]\n",
      " [138.7205 ]\n",
      " [ 99.61831]\n",
      " [149.09294]\n",
      " [110.98818]\n",
      " [167.69386]\n",
      " [151.9953 ]]\n",
      "1800 Cost:  24.458984 \n",
      "Prediction:\n",
      " [[157.53426 ]\n",
      " [182.97337 ]\n",
      " [183.63004 ]\n",
      " [198.95015 ]\n",
      " [138.87149 ]\n",
      " [100.143326]\n",
      " [149.24614 ]\n",
      " [111.260666]\n",
      " [168.31139 ]\n",
      " [153.10634 ]]\n",
      "2000 Cost:  20.76342 \n",
      "Prediction:\n",
      " [[157.1699  ]\n",
      " [183.16225 ]\n",
      " [183.47696 ]\n",
      " [198.98079 ]\n",
      " [139.00845 ]\n",
      " [100.62198 ]\n",
      " [149.3866  ]\n",
      " [111.510605]\n",
      " [168.87439 ]\n",
      " [154.12003 ]]\n"
     ]
    }
   ],
   "source": [
    "import tensorflow as tf\n",
    "tf.set_random_seed(777)  # for reproducibility\n",
    "\n",
    "filename_queue = tf.train.string_input_producer(\n",
    "    ['data-01-test-score.csv'], shuffle=False, name='filename_queue'\n",
    ")\n",
    "\n",
    "reader = tf.TextLineReader()\n",
    "key, value = reader.read(filename_queue)\n",
    "\n",
    "# Default values, in case of empty columns. Also specifies the type of the decoded result.\n",
    "record_defaults = [[0.], [0.], [0.], [0.]]\n",
    "xy = tf.decode_csv(value, record_defaults=record_defaults)\n",
    "\n",
    "# collect batches of csv in\n",
    "train_x_batch, train_y_batch = tf.train.batch([xy[0:-1], xy[-1:]], batch_size=10)\n",
    "\n",
    "X = tf.placeholder(tf.float32 ,shape=[None, 3])\n",
    "Y = tf.placeholder(tf.float32 ,shape=[None, 1])\n",
    "\n",
    "W = tf.Variable(tf.random_normal([3, 1]), name='weight')\n",
    "b = tf.Variable(tf.random_normal([1]), name='bias')\n",
    "\n",
    "hypothesis = tf.matmul(X, W) + b\n",
    "\n",
    "cost = tf.reduce_mean(tf.square(hypothesis - Y))\n",
    "\n",
    "optimizer = tf.train.GradientDescentOptimizer(learning_rate=1e-5)\n",
    "train = optimizer.minimize(cost)\n",
    "\n",
    "sess = tf.Session()\n",
    "sess.run(tf.global_variables_initializer())\n",
    "\n",
    "# Start populating the filename queue.\n",
    "coord = tf.train.Coordinator()\n",
    "threads = tf.train.start_queue_runners(sess=sess,coord=coord)\n",
    "\n",
    "for step in range(2001):\n",
    "    x_batch, y_batch = sess.run([train_x_batch, train_y_batch])\n",
    "    # 학습 시킬때 배치 사용\n",
    "    cost_val, hy_val, _ = sess.run(\n",
    "        [cost, hypothesis, train],\n",
    "        feed_dict={X: x_batch, Y: y_batch}\n",
    "    )\n",
    "    \n",
    "    if step % 200 == 0:\n",
    "        print(step, \"Cost: \", cost_val, \"\\nPrediction:\\n\", hy_val)\n",
    "        \n",
    "coord.request_stop()\n",
    "coord.join(threads)"
   ]
  },
  {
   "cell_type": "code",
   "execution_count": 39,
   "metadata": {},
   "outputs": [
    {
     "name": "stdout",
     "output_type": "stream",
     "text": [
      "Your score will be  [[169.72974]]\n"
     ]
    }
   ],
   "source": [
    "print(\"Your score will be \", sess.run(hypothesis, feed_dict={X: [[100, 70, 101]]}))"
   ]
  },
  {
   "cell_type": "code",
   "execution_count": 40,
   "metadata": {},
   "outputs": [
    {
     "name": "stdout",
     "output_type": "stream",
     "text": [
      "Other scores will be  [[155.55643]\n",
      " [190.30804]]\n"
     ]
    }
   ],
   "source": [
    "print(\"Other scores will be \", sess.run(hypothesis, feed_dict={X: [[60, 70, 110], [90, 100, 80]]}))"
   ]
  }
 ],
 "metadata": {
  "kernelspec": {
   "display_name": "Python 3",
   "language": "python",
   "name": "python3"
  },
  "language_info": {
   "codemirror_mode": {
    "name": "ipython",
    "version": 3
   },
   "file_extension": ".py",
   "mimetype": "text/x-python",
   "name": "python",
   "nbconvert_exporter": "python",
   "pygments_lexer": "ipython3",
   "version": "3.7.4"
  }
 },
 "nbformat": 4,
 "nbformat_minor": 2
}
