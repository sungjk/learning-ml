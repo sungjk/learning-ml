{
 "cells": [
  {
   "cell_type": "code",
   "execution_count": 2,
   "metadata": {},
   "outputs": [
    {
     "name": "stdout",
     "output_type": "stream",
     "text": [
      "0 31.606827 [-2.004583] [0.95066]\n",
      "100 0.32134607 [0.34159425] [1.4966651]\n",
      "200 0.19857246 [0.48244625] [1.1765214]\n",
      "300 0.12270564 [0.59315574] [0.92485267]\n",
      "400 0.07582461 [0.68018335] [0.7270185]\n",
      "500 0.046855032 [0.74859494] [0.5715028]\n",
      "600 0.028953562 [0.8023727] [0.44925335]\n",
      "700 0.017891549 [0.8446469] [0.35315412]\n",
      "800 0.011055905 [0.8778782] [0.27761143]\n",
      "900 0.0068318727 [0.90400124] [0.2182278]\n",
      "1000 0.0042216885 [0.92453617] [0.17154704]\n",
      "1100 0.0026087454 [0.9406786] [0.13485153]\n",
      "1200 0.0016120415 [0.953368] [0.1060055]\n",
      "1300 0.0009961441 [0.963343] [0.08332997]\n",
      "1400 0.00061555736 [0.97118425] [0.06550501]\n",
      "1500 0.00038037845 [0.9773482] [0.05149291]\n",
      "1600 0.00023505026 [0.98219365] [0.04047801]\n",
      "1700 0.00014524459 [0.9860026] [0.03181932]\n",
      "1800 8.975449e-05 [0.9889967] [0.02501298]\n",
      "1900 5.54619e-05 [0.9913505] [0.01966247]\n",
      "2000 3.4271554e-05 [0.9932007] [0.01545642]\n"
     ]
    }
   ],
   "source": [
    "import tensorflow as tf\n",
    "\n",
    "# X and Y data\n",
    "x_train = [1, 2, 3]\n",
    "y_train = [1, 2, 3]\n",
    "\n",
    "W = tf.Variable(tf.random_normal([1]), name='weight')\n",
    "b = tf.Variable(tf.random_normal([1]), name='bias')\n",
    "\n",
    "# hypothesis XW+b\n",
    "hypothesis = x_train * W + b\n",
    "\n",
    "# cost/loss function\n",
    "cost = tf.reduce_mean(tf.square(hypothesis - y_train))\n",
    "\n",
    "# Minimize\n",
    "optimizer = tf.train.GradientDescentOptimizer(learning_rate=0.01)\n",
    "train = optimizer.minimize(cost)\n",
    "\n",
    "# Launch the graph in a session\n",
    "sess = tf.Session()\n",
    "\n",
    "# Initializes global varialbes in the graph\n",
    "sess.run(tf.global_variables_initializer())\n",
    "\n",
    "# Fit the line\n",
    "for step in range(2001):\n",
    "    sess.run(train)\n",
    "    if step % 100 == 0:\n",
    "        # Goal: w => 1, b => 0\n",
    "        print(step, sess.run(cost), sess.run(W), sess.run(b))"
   ]
  },
  {
   "cell_type": "code",
   "execution_count": 9,
   "metadata": {},
   "outputs": [
    {
     "name": "stdout",
     "output_type": "stream",
     "text": [
      "0 31.912678 [0.18369137] [-0.62359345]\n",
      "100 0.18005791 [1.2745575] [0.10876026]\n",
      "200 0.09146346 [1.195682] [0.39352533]\n",
      "300 0.04646048 [1.1394662] [0.5964827]\n",
      "400 0.02360038 [1.0994] [0.74113387]\n",
      "500 0.011988232 [1.0708442] [0.8442296]\n",
      "600 0.006089635 [1.0504919] [0.9177076]\n",
      "700 0.003093322 [1.0359865] [0.97007716]\n",
      "800 0.0015713148 [1.0256484] [1.0074015]\n",
      "900 0.00079816877 [1.0182799] [1.0340035]\n",
      "1000 0.0004054388 [1.0130284] [1.0529633]\n",
      "1100 0.00020595136 [1.0092856] [1.066476]\n",
      "1200 0.00010460906 [1.0066178] [1.0761076]\n",
      "1300 5.3136562e-05 [1.0047165] [1.0829717]\n",
      "1400 2.6992837e-05 [1.0033616] [1.0878634]\n",
      "1500 1.3708819e-05 [1.0023957] [1.0913508]\n",
      "1600 6.9641255e-06 [1.0017074] [1.0938354]\n",
      "1700 3.5372323e-06 [1.0012169] [1.0956064]\n",
      "1800 1.796892e-06 [1.0008674] [1.0968684]\n",
      "1900 9.13208e-07 [1.0006183] [1.0977676]\n",
      "2000 4.6425288e-07 [1.0004408] [1.0984083]\n"
     ]
    }
   ],
   "source": [
    "X = tf.placeholder(tf.float32, shape=[None])\n",
    "Y = tf.placeholder(tf.float32, shape=[None])\n",
    "\n",
    "W = tf.Variable(tf.random_normal([1]), name='weight')\n",
    "b = tf.Variable(tf.random_normal([1]), name='bias')\n",
    "\n",
    "hypothesis = X * W + b\n",
    "\n",
    "cost = tf.reduce_mean(tf.square(hypothesis - Y))\n",
    "\n",
    "optimizer = tf.train.GradientDescentOptimizer(learning_rate=0.01)\n",
    "train = optimizer.minimize(cost)\n",
    "\n",
    "sess = tf.Session()\n",
    "sess.run(tf.global_variables_initializer())\n",
    "\n",
    "for step in range(2001):\n",
    "    cost_val, W_val, b_val, _ = sess.run([cost, W, b, train], feed_dict={X: [1, 2, 3, 4, 5], Y: [2.1, 3.1, 4.1, 5.1, 6.1]})\n",
    "    if step % 100 == 0:\n",
    "        # Goal: W => 1, b => 1.1\n",
    "        print(step, cost_val, W_val, b_val)"
   ]
  },
  {
   "cell_type": "code",
   "execution_count": 11,
   "metadata": {},
   "outputs": [
    {
     "name": "stdout",
     "output_type": "stream",
     "text": [
      "[6.100612]\n",
      "[3.5995102]\n",
      "[2.5990696 4.5999513]\n"
     ]
    }
   ],
   "source": [
    "print(sess.run(hypothesis, feed_dict={X: [5]}))\n",
    "print(sess.run(hypothesis, feed_dict={X: [2.5]}))\n",
    "print(sess.run(hypothesis, feed_dict={X: [1.5, 3.5]}))"
   ]
  }
 ],
 "metadata": {
  "kernelspec": {
   "display_name": "Python 3",
   "language": "python",
   "name": "python3"
  },
  "language_info": {
   "codemirror_mode": {
    "name": "ipython",
    "version": 3
   },
   "file_extension": ".py",
   "mimetype": "text/x-python",
   "name": "python",
   "nbconvert_exporter": "python",
   "pygments_lexer": "ipython3",
   "version": "3.7.4"
  }
 },
 "nbformat": 4,
 "nbformat_minor": 2
}
